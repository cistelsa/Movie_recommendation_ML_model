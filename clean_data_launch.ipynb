{
 "cells": [
  {
   "cell_type": "code",
   "execution_count": 2,
   "metadata": {},
   "outputs": [],
   "source": [
    "import pandas as pd\n",
    "import numpy as np\n",
    "import os\n",
    "import gdown\n",
    "import json\n",
    "import re"
   ]
  },
  {
   "cell_type": "code",
   "execution_count": 3,
   "metadata": {},
   "outputs": [],
   "source": [
    "df_movies = pd.read_csv(\"data/beta/movies_dataset_beta.csv\")"
   ]
  },
  {
   "cell_type": "code",
   "execution_count": 5,
   "metadata": {},
   "outputs": [],
   "source": [
    " df_credits = pd.read_csv(\"data/beta/credits_beta.csv\")"
   ]
  },
  {
   "cell_type": "code",
   "execution_count": 6,
   "metadata": {},
   "outputs": [
    {
     "name": "stdout",
     "output_type": "stream",
     "text": [
      "<class 'pandas.core.frame.DataFrame'>\n",
      "RangeIndex: 45349 entries, 0 to 45348\n",
      "Data columns (total 20 columns):\n",
      " #   Column                 Non-Null Count  Dtype  \n",
      "---  ------                 --------------  -----  \n",
      " 0   id                     45349 non-null  int64  \n",
      " 1   title                  45349 non-null  object \n",
      " 2   original_language      45335 non-null  object \n",
      " 3   overview               44408 non-null  object \n",
      " 4   tagline                20388 non-null  object \n",
      " 5   status                 45269 non-null  object \n",
      " 6   runtime                45349 non-null  int64  \n",
      " 7   release_date           45349 non-null  object \n",
      " 8   release_year           45349 non-null  int64  \n",
      " 9   genres                 45346 non-null  object \n",
      " 10  spoken_languages       45349 non-null  object \n",
      " 11  budget                 45349 non-null  float64\n",
      " 12  revenue                45349 non-null  float64\n",
      " 13  return                 45349 non-null  float64\n",
      " 14  popularity             45349 non-null  float64\n",
      " 15  vote_average           45349 non-null  float64\n",
      " 16  vote_count             45349 non-null  int64  \n",
      " 17  belongs_to_collection  45349 non-null  object \n",
      " 18  production_companies   45349 non-null  object \n",
      " 19  production_countries   45349 non-null  object \n",
      "dtypes: float64(5), int64(4), object(11)\n",
      "memory usage: 6.9+ MB\n"
     ]
    }
   ],
   "source": [
    "df_movies.info()"
   ]
  },
  {
   "cell_type": "code",
   "execution_count": 7,
   "metadata": {},
   "outputs": [
    {
     "name": "stdout",
     "output_type": "stream",
     "text": [
      "<class 'pandas.core.frame.DataFrame'>\n",
      "RangeIndex: 45432 entries, 0 to 45431\n",
      "Data columns (total 3 columns):\n",
      " #   Column  Non-Null Count  Dtype \n",
      "---  ------  --------------  ----- \n",
      " 0   id      45432 non-null  int64 \n",
      " 1   cast    45432 non-null  object\n",
      " 2   crew    45432 non-null  object\n",
      "dtypes: int64(1), object(2)\n",
      "memory usage: 1.0+ MB\n"
     ]
    }
   ],
   "source": [
    "df_credits.info()"
   ]
  },
  {
   "cell_type": "markdown",
   "metadata": {},
   "source": [
    "#### Función para extraer todos los dataset que se encuentran en formato Json en las columnas `genres `, `spoken_languages`, `belongs_to_collection`, `production_companies`, `production_countries`, `cast`, `crew`   y guardarlos en dataframe separados y así iniciar una normalización de tablas."
   ]
  },
  {
   "cell_type": "code",
   "execution_count": 8,
   "metadata": {},
   "outputs": [],
   "source": [
    "# Definir la función para cargar el JSON en cada celda y devolver el resultado como DataFrame\n",
    "def load_json_to_df(json_data, column_name):\n",
    "    try:\n",
    "        # Cargar la cadena JSON en un diccionario\n",
    "        data_dict = json.loads(json_data[column_name])\n",
    "        # Convertir el diccionario en un DataFrame\n",
    "        df_json = pd.json_normalize(data_dict)\n",
    "        # Agregar el valor del \"id\" del DataFrame original a cada fila del DataFrame resultante de JSON\n",
    "        df_json[\"id_\"] = json_data[\"id\"]\n",
    "        return df_json\n",
    "    except:\n",
    "        # Si ocurre un error (por ejemplo, si el valor no es una cadena de texto con formato JSON), devolver un DataFrame vacío\n",
    "        return pd.DataFrame()"
   ]
  },
  {
   "cell_type": "code",
   "execution_count": 9,
   "metadata": {},
   "outputs": [],
   "source": [
    "# Definir el nombre de las columnas con JSON que deseas procesar\n",
    "columns_credits_with_json = [\"crew\", \"cast\"]\n",
    "\n",
    "# Crear una lista de DataFrames resultantes y asignarlos a variables separadas\n",
    "df_crew, df_cast = [\n",
    "    df_credits.apply(lambda row: load_json_to_df(row, column_name), axis=1) for column_name in columns_credits_with_json\n",
    "]\n",
    "\n",
    "# Concatenar los DataFrames resultantes en uno solo\n",
    "df_cast = pd.concat(df_cast.tolist(), ignore_index=True)\n",
    "df_crew = pd.concat(df_crew.tolist(), ignore_index=True)\n",
    "\n",
    "# Cambiar el nombre de la columna \"id\" en el DataFrame resultante de JSON a \"json_id\" por ejemplo\n",
    "df_cast.rename(columns={\"id\": \"person_id\"}, inplace=True)\n",
    "df_cast.rename(columns={\"id_\": \"id\"}, inplace=True)\n",
    "df_cast = df_cast.drop(columns=['profile_path'])\n",
    "df_cast = df_cast.drop(columns=['cast_id'])\n",
    "df_cast.rename(columns={\"gender\": \"crew_gender_id\"}, inplace=True)\n",
    "df_crew.rename(columns={\"id\": \"crew_id\"}, inplace=True)\n",
    "df_crew.rename(columns={\"id_\": \"id\"}, inplace=True)\n",
    "df_crew = df_crew.drop(columns=['profile_path'])\n",
    "df_crew.rename(columns={\"gender\": \"crew_gender_id\"}, inplace=True)\n"
   ]
  },
  {
   "cell_type": "code",
   "execution_count": 10,
   "metadata": {},
   "outputs": [],
   "source": [
    "# Definir el nombre de las columnas con JSON que deseas procesar\n",
    "columns_movies_with_json = [\"genres\", \"spoken_languages\", \"belongs_to_collection\", \"production_companies\", \"production_countries\"]\n",
    "\n",
    "# Crear una lista de DataFrames resultantes y asignarlos a variables separadas\n",
    "df_genres, df_spoken_languages, df_belongs_to_collection, df_production_companies, df_production_countries = [\n",
    "    df_movies.apply(lambda row_m: load_json_to_df(row_m, column_name_m), axis=1) for column_name_m in columns_movies_with_json\n",
    "]\n",
    "\n",
    "# Concatenar los DataFrames resultantes en uno solo\n",
    "df_genres = pd.concat(df_genres.tolist(), ignore_index=True)\n",
    "df_spoken_languages = pd.concat(df_spoken_languages.tolist(), ignore_index=True)\n",
    "df_belongs_to_collection = pd.concat(df_belongs_to_collection.tolist(), ignore_index=True)\n",
    "df_production_companies = pd.concat(df_production_companies.tolist(), ignore_index=True)\n",
    "df_production_countries = pd.concat(df_production_countries.tolist(), ignore_index=True)\n",
    "\n",
    "# Cambiar el nombre de la columna \"id\" en el DataFrame resultante de JSON a \"json_id\" por ejemplo\n",
    "df_production_companies.rename(columns={\"id\": \"production_companies_id\"}, inplace=True)\n",
    "df_production_companies.rename(columns={\"id_\": \"id\"}, inplace=True)\n",
    "df_production_countries.rename(columns={\"iso_3166_1\": \"cod_country\"}, inplace=True)\n",
    "df_spoken_languages.rename(columns={\"iso_639_1\": \"cod\"}, inplace=True)\n",
    "df_genres.rename(columns={\"id\": \"genre_id\"}, inplace=True)\n",
    "df_genres.rename(columns={\"id_\": \"id\"}, inplace=True)\n",
    "# Drop columns: 'poster_path', 'backdrop_path'\n",
    "df_belongs_to_collection = df_belongs_to_collection.drop(columns=['poster_path', 'backdrop_path'])\n",
    "# Rename column 'id' to 'collection_id'\n",
    "df_belongs_to_collection = df_belongs_to_collection.rename(columns={'id': 'collection_id'})\n",
    "# Rename column 'id_' to 'id'\n",
    "df_belongs_to_collection = df_belongs_to_collection.rename(columns={'id_': 'id'})"
   ]
  },
  {
   "cell_type": "code",
   "execution_count": 11,
   "metadata": {},
   "outputs": [],
   "source": [
    "df_genres = df_genres[[\"id\", \"genre_id\", \"name\"]]\n",
    "df_genres = df_genres.astype({'genre_id': 'int64'})"
   ]
  },
  {
   "cell_type": "code",
   "execution_count": 12,
   "metadata": {},
   "outputs": [
    {
     "data": {
      "text/html": [
       "<div>\n",
       "<style scoped>\n",
       "    .dataframe tbody tr th:only-of-type {\n",
       "        vertical-align: middle;\n",
       "    }\n",
       "\n",
       "    .dataframe tbody tr th {\n",
       "        vertical-align: top;\n",
       "    }\n",
       "\n",
       "    .dataframe thead th {\n",
       "        text-align: right;\n",
       "    }\n",
       "</style>\n",
       "<table border=\"1\" class=\"dataframe\">\n",
       "  <thead>\n",
       "    <tr style=\"text-align: right;\">\n",
       "      <th></th>\n",
       "      <th>id</th>\n",
       "      <th>genre_id</th>\n",
       "      <th>name</th>\n",
       "    </tr>\n",
       "  </thead>\n",
       "  <tbody>\n",
       "    <tr>\n",
       "      <th>0</th>\n",
       "      <td>2</td>\n",
       "      <td>18</td>\n",
       "      <td>Drama</td>\n",
       "    </tr>\n",
       "    <tr>\n",
       "      <th>1</th>\n",
       "      <td>2</td>\n",
       "      <td>80</td>\n",
       "      <td>Crime</td>\n",
       "    </tr>\n",
       "    <tr>\n",
       "      <th>2</th>\n",
       "      <td>3</td>\n",
       "      <td>18</td>\n",
       "      <td>Drama</td>\n",
       "    </tr>\n",
       "    <tr>\n",
       "      <th>3</th>\n",
       "      <td>3</td>\n",
       "      <td>35</td>\n",
       "      <td>Comedy</td>\n",
       "    </tr>\n",
       "    <tr>\n",
       "      <th>4</th>\n",
       "      <td>5</td>\n",
       "      <td>80</td>\n",
       "      <td>Crime</td>\n",
       "    </tr>\n",
       "  </tbody>\n",
       "</table>\n",
       "</div>"
      ],
      "text/plain": [
       "   id  genre_id    name\n",
       "0   2        18   Drama\n",
       "1   2        80   Crime\n",
       "2   3        18   Drama\n",
       "3   3        35  Comedy\n",
       "4   5        80   Crime"
      ]
     },
     "execution_count": 12,
     "metadata": {},
     "output_type": "execute_result"
    }
   ],
   "source": [
    "df_genres.head()"
   ]
  },
  {
   "cell_type": "code",
   "execution_count": 13,
   "metadata": {},
   "outputs": [
    {
     "name": "stdout",
     "output_type": "stream",
     "text": [
      "<class 'pandas.core.frame.DataFrame'>\n",
      "RangeIndex: 90957 entries, 0 to 90956\n",
      "Data columns (total 3 columns):\n",
      " #   Column    Non-Null Count  Dtype \n",
      "---  ------    --------------  ----- \n",
      " 0   id        90957 non-null  int64 \n",
      " 1   genre_id  90957 non-null  int64 \n",
      " 2   name      90957 non-null  object\n",
      "dtypes: int64(2), object(1)\n",
      "memory usage: 2.1+ MB\n"
     ]
    }
   ],
   "source": [
    "df_genres.info()"
   ]
  },
  {
   "cell_type": "code",
   "execution_count": 14,
   "metadata": {},
   "outputs": [],
   "source": [
    "df_genero = df_genres[[\"genre_id\", \"name\"]].drop_duplicates()"
   ]
  },
  {
   "cell_type": "code",
   "execution_count": 16,
   "metadata": {},
   "outputs": [
    {
     "name": "stdout",
     "output_type": "stream",
     "text": [
      "<class 'pandas.core.frame.DataFrame'>\n",
      "Int64Index: 20 entries, 0 to 1704\n",
      "Data columns (total 2 columns):\n",
      " #   Column    Non-Null Count  Dtype \n",
      "---  ------    --------------  ----- \n",
      " 0   genre_id  20 non-null     int64 \n",
      " 1   name      20 non-null     object\n",
      "dtypes: int64(1), object(1)\n",
      "memory usage: 480.0+ bytes\n"
     ]
    }
   ],
   "source": [
    "df_genero.info()"
   ]
  },
  {
   "cell_type": "code",
   "execution_count": 14,
   "metadata": {},
   "outputs": [],
   "source": [
    "df_genero.to_csv(\"data/launch/genres.csv\", index=False)"
   ]
  },
  {
   "cell_type": "code",
   "execution_count": 15,
   "metadata": {},
   "outputs": [],
   "source": [
    "df_pelicula_genero = df_genres.drop(columns=['name'])"
   ]
  },
  {
   "cell_type": "code",
   "execution_count": 16,
   "metadata": {},
   "outputs": [],
   "source": [
    "df_pelicula_genero.to_csv(\"data/launch/movie_genres.csv\", index=False)"
   ]
  },
  {
   "cell_type": "code",
   "execution_count": 17,
   "metadata": {},
   "outputs": [],
   "source": [
    "# Created column 'lang_id' from formula\n",
    "df_spoken_languages['lang_id'] = pd.factorize(df_spoken_languages[\"cod\"])[0]\n",
    "# Rename column 'id_' to 'id'\n",
    "df_spoken_languages = df_spoken_languages.rename(columns={'id_': 'id'})\n",
    "df_spoken_languages = df_spoken_languages[[\"id\", \"lang_id\", \"cod\", \"name\"]]"
   ]
  },
  {
   "cell_type": "code",
   "execution_count": 18,
   "metadata": {},
   "outputs": [
    {
     "data": {
      "text/html": [
       "<div>\n",
       "<style scoped>\n",
       "    .dataframe tbody tr th:only-of-type {\n",
       "        vertical-align: middle;\n",
       "    }\n",
       "\n",
       "    .dataframe tbody tr th {\n",
       "        vertical-align: top;\n",
       "    }\n",
       "\n",
       "    .dataframe thead th {\n",
       "        text-align: right;\n",
       "    }\n",
       "</style>\n",
       "<table border=\"1\" class=\"dataframe\">\n",
       "  <thead>\n",
       "    <tr style=\"text-align: right;\">\n",
       "      <th></th>\n",
       "      <th>id</th>\n",
       "      <th>lang_id</th>\n",
       "      <th>cod</th>\n",
       "      <th>name</th>\n",
       "    </tr>\n",
       "  </thead>\n",
       "  <tbody>\n",
       "    <tr>\n",
       "      <th>0</th>\n",
       "      <td>2</td>\n",
       "      <td>0</td>\n",
       "      <td>fi</td>\n",
       "      <td>suomi</td>\n",
       "    </tr>\n",
       "    <tr>\n",
       "      <th>1</th>\n",
       "      <td>2</td>\n",
       "      <td>1</td>\n",
       "      <td>de</td>\n",
       "      <td>Deutsch</td>\n",
       "    </tr>\n",
       "    <tr>\n",
       "      <th>2</th>\n",
       "      <td>3</td>\n",
       "      <td>2</td>\n",
       "      <td>en</td>\n",
       "      <td>English</td>\n",
       "    </tr>\n",
       "    <tr>\n",
       "      <th>3</th>\n",
       "      <td>3</td>\n",
       "      <td>0</td>\n",
       "      <td>fi</td>\n",
       "      <td>suomi</td>\n",
       "    </tr>\n",
       "    <tr>\n",
       "      <th>4</th>\n",
       "      <td>3</td>\n",
       "      <td>3</td>\n",
       "      <td>sv</td>\n",
       "      <td>svenska</td>\n",
       "    </tr>\n",
       "  </tbody>\n",
       "</table>\n",
       "</div>"
      ],
      "text/plain": [
       "   id  lang_id cod     name\n",
       "0   2        0  fi    suomi\n",
       "1   2        1  de  Deutsch\n",
       "2   3        2  en  English\n",
       "3   3        0  fi    suomi\n",
       "4   3        3  sv  svenska"
      ]
     },
     "execution_count": 18,
     "metadata": {},
     "output_type": "execute_result"
    }
   ],
   "source": [
    "df_spoken_languages.head()"
   ]
  },
  {
   "cell_type": "code",
   "execution_count": 19,
   "metadata": {},
   "outputs": [],
   "source": [
    "df_lenguage = df_spoken_languages[[\"lang_id\", \"cod\", \"name\"]].drop_duplicates()"
   ]
  },
  {
   "cell_type": "code",
   "execution_count": 20,
   "metadata": {},
   "outputs": [
    {
     "data": {
      "text/html": [
       "<div>\n",
       "<style scoped>\n",
       "    .dataframe tbody tr th:only-of-type {\n",
       "        vertical-align: middle;\n",
       "    }\n",
       "\n",
       "    .dataframe tbody tr th {\n",
       "        vertical-align: top;\n",
       "    }\n",
       "\n",
       "    .dataframe thead th {\n",
       "        text-align: right;\n",
       "    }\n",
       "</style>\n",
       "<table border=\"1\" class=\"dataframe\">\n",
       "  <thead>\n",
       "    <tr style=\"text-align: right;\">\n",
       "      <th></th>\n",
       "      <th>lang_id</th>\n",
       "      <th>cod</th>\n",
       "      <th>name</th>\n",
       "    </tr>\n",
       "  </thead>\n",
       "  <tbody>\n",
       "    <tr>\n",
       "      <th>0</th>\n",
       "      <td>0</td>\n",
       "      <td>fi</td>\n",
       "      <td>suomi</td>\n",
       "    </tr>\n",
       "    <tr>\n",
       "      <th>1</th>\n",
       "      <td>1</td>\n",
       "      <td>de</td>\n",
       "      <td>Deutsch</td>\n",
       "    </tr>\n",
       "    <tr>\n",
       "      <th>2</th>\n",
       "      <td>2</td>\n",
       "      <td>en</td>\n",
       "      <td>English</td>\n",
       "    </tr>\n",
       "    <tr>\n",
       "      <th>4</th>\n",
       "      <td>3</td>\n",
       "      <td>sv</td>\n",
       "      <td>svenska</td>\n",
       "    </tr>\n",
       "    <tr>\n",
       "      <th>14</th>\n",
       "      <td>4</td>\n",
       "      <td>cy</td>\n",
       "      <td>Cymraeg</td>\n",
       "    </tr>\n",
       "  </tbody>\n",
       "</table>\n",
       "</div>"
      ],
      "text/plain": [
       "    lang_id cod     name\n",
       "0         0  fi    suomi\n",
       "1         1  de  Deutsch\n",
       "2         2  en  English\n",
       "4         3  sv  svenska\n",
       "14        4  cy  Cymraeg"
      ]
     },
     "execution_count": 20,
     "metadata": {},
     "output_type": "execute_result"
    }
   ],
   "source": [
    "df_lenguage.head()"
   ]
  },
  {
   "cell_type": "code",
   "execution_count": 21,
   "metadata": {},
   "outputs": [],
   "source": [
    "df_lenguage.to_csv(\"data/launch/spoken_languages.csv\", index=False)"
   ]
  },
  {
   "cell_type": "code",
   "execution_count": 22,
   "metadata": {},
   "outputs": [],
   "source": [
    "df_pelicula_lenguage = df_spoken_languages.drop(columns=[\"name\", \"cod\"])"
   ]
  },
  {
   "cell_type": "code",
   "execution_count": 23,
   "metadata": {},
   "outputs": [],
   "source": [
    "df_pelicula_lenguage.to_csv(\"data/launch/movie_languages.csv\", index=False)"
   ]
  },
  {
   "cell_type": "code",
   "execution_count": 17,
   "metadata": {},
   "outputs": [],
   "source": [
    "df_belongs_to_collection = df_belongs_to_collection[[\"collection_id\", \"id\", \"name\"]]"
   ]
  },
  {
   "cell_type": "code",
   "execution_count": 18,
   "metadata": {},
   "outputs": [
    {
     "data": {
      "text/html": [
       "<div>\n",
       "<style scoped>\n",
       "    .dataframe tbody tr th:only-of-type {\n",
       "        vertical-align: middle;\n",
       "    }\n",
       "\n",
       "    .dataframe tbody tr th {\n",
       "        vertical-align: top;\n",
       "    }\n",
       "\n",
       "    .dataframe thead th {\n",
       "        text-align: right;\n",
       "    }\n",
       "</style>\n",
       "<table border=\"1\" class=\"dataframe\">\n",
       "  <thead>\n",
       "    <tr style=\"text-align: right;\">\n",
       "      <th></th>\n",
       "      <th>collection_id</th>\n",
       "      <th>id</th>\n",
       "      <th>name</th>\n",
       "    </tr>\n",
       "  </thead>\n",
       "  <tbody>\n",
       "    <tr>\n",
       "      <th>0</th>\n",
       "      <td>10</td>\n",
       "      <td>11</td>\n",
       "      <td>Star Wars Collection</td>\n",
       "    </tr>\n",
       "    <tr>\n",
       "      <th>1</th>\n",
       "      <td>137697</td>\n",
       "      <td>12</td>\n",
       "      <td>Finding Nemo Collection</td>\n",
       "    </tr>\n",
       "    <tr>\n",
       "      <th>2</th>\n",
       "      <td>498</td>\n",
       "      <td>16</td>\n",
       "      <td>Heart of Gold Collection</td>\n",
       "    </tr>\n",
       "    <tr>\n",
       "      <th>3</th>\n",
       "      <td>252313</td>\n",
       "      <td>21</td>\n",
       "      <td>The Endless Summer Collection</td>\n",
       "    </tr>\n",
       "    <tr>\n",
       "      <th>4</th>\n",
       "      <td>295</td>\n",
       "      <td>22</td>\n",
       "      <td>Pirates of the Caribbean Collection</td>\n",
       "    </tr>\n",
       "  </tbody>\n",
       "</table>\n",
       "</div>"
      ],
      "text/plain": [
       "   collection_id  id                                 name\n",
       "0             10  11                 Star Wars Collection\n",
       "1         137697  12              Finding Nemo Collection\n",
       "2            498  16             Heart of Gold Collection\n",
       "3         252313  21        The Endless Summer Collection\n",
       "4            295  22  Pirates of the Caribbean Collection"
      ]
     },
     "execution_count": 18,
     "metadata": {},
     "output_type": "execute_result"
    }
   ],
   "source": [
    "df_belongs_to_collection.head()"
   ]
  },
  {
   "cell_type": "code",
   "execution_count": 19,
   "metadata": {},
   "outputs": [],
   "source": [
    "df_collections = df_belongs_to_collection[[\"collection_id\", \"name\"]].drop_duplicates()"
   ]
  },
  {
   "cell_type": "code",
   "execution_count": 20,
   "metadata": {},
   "outputs": [
    {
     "data": {
      "text/html": [
       "<div>\n",
       "<style scoped>\n",
       "    .dataframe tbody tr th:only-of-type {\n",
       "        vertical-align: middle;\n",
       "    }\n",
       "\n",
       "    .dataframe tbody tr th {\n",
       "        vertical-align: top;\n",
       "    }\n",
       "\n",
       "    .dataframe thead th {\n",
       "        text-align: right;\n",
       "    }\n",
       "</style>\n",
       "<table border=\"1\" class=\"dataframe\">\n",
       "  <thead>\n",
       "    <tr style=\"text-align: right;\">\n",
       "      <th></th>\n",
       "      <th>collection_id</th>\n",
       "      <th>name</th>\n",
       "    </tr>\n",
       "  </thead>\n",
       "  <tbody>\n",
       "    <tr>\n",
       "      <th>0</th>\n",
       "      <td>10</td>\n",
       "      <td>Star Wars Collection</td>\n",
       "    </tr>\n",
       "    <tr>\n",
       "      <th>1</th>\n",
       "      <td>137697</td>\n",
       "      <td>Finding Nemo Collection</td>\n",
       "    </tr>\n",
       "    <tr>\n",
       "      <th>2</th>\n",
       "      <td>498</td>\n",
       "      <td>Heart of Gold Collection</td>\n",
       "    </tr>\n",
       "    <tr>\n",
       "      <th>3</th>\n",
       "      <td>252313</td>\n",
       "      <td>The Endless Summer Collection</td>\n",
       "    </tr>\n",
       "    <tr>\n",
       "      <th>4</th>\n",
       "      <td>295</td>\n",
       "      <td>Pirates of the Caribbean Collection</td>\n",
       "    </tr>\n",
       "  </tbody>\n",
       "</table>\n",
       "</div>"
      ],
      "text/plain": [
       "   collection_id                                 name\n",
       "0             10                 Star Wars Collection\n",
       "1         137697              Finding Nemo Collection\n",
       "2            498             Heart of Gold Collection\n",
       "3         252313        The Endless Summer Collection\n",
       "4            295  Pirates of the Caribbean Collection"
      ]
     },
     "execution_count": 20,
     "metadata": {},
     "output_type": "execute_result"
    }
   ],
   "source": [
    "df_collections.head()"
   ]
  },
  {
   "cell_type": "code",
   "execution_count": 63,
   "metadata": {},
   "outputs": [],
   "source": [
    "df_collections.to_csv(\"data/launch/belongs_to_collection.csv\", index=False)"
   ]
  },
  {
   "cell_type": "code",
   "execution_count": 21,
   "metadata": {},
   "outputs": [],
   "source": [
    "df_pelicula_collection = df_belongs_to_collection.drop(columns=['name'])"
   ]
  },
  {
   "cell_type": "code",
   "execution_count": null,
   "metadata": {},
   "outputs": [],
   "source": [
    "df_pelicula_collection.to_csv(\"data/launch/movie_collection.csv\", index=False)"
   ]
  },
  {
   "cell_type": "code",
   "execution_count": 24,
   "metadata": {},
   "outputs": [],
   "source": [
    "# Created column 'lang_id' from formula\n",
    "df_production_countries[\"country_id\"] = pd.factorize(df_production_countries[\"cod_country\"])[0]\n",
    "# Rename column 'id_' to 'id'\n",
    "df_production_countries = df_production_countries.rename(columns={'id_': 'id'})\n",
    "df_production_countries = df_production_countries[[\"id\", \"country_id\", \"cod_country\", \"name\"]]"
   ]
  },
  {
   "cell_type": "code",
   "execution_count": 25,
   "metadata": {},
   "outputs": [
    {
     "data": {
      "text/html": [
       "<div>\n",
       "<style scoped>\n",
       "    .dataframe tbody tr th:only-of-type {\n",
       "        vertical-align: middle;\n",
       "    }\n",
       "\n",
       "    .dataframe tbody tr th {\n",
       "        vertical-align: top;\n",
       "    }\n",
       "\n",
       "    .dataframe thead th {\n",
       "        text-align: right;\n",
       "    }\n",
       "</style>\n",
       "<table border=\"1\" class=\"dataframe\">\n",
       "  <thead>\n",
       "    <tr style=\"text-align: right;\">\n",
       "      <th></th>\n",
       "      <th>id</th>\n",
       "      <th>country_id</th>\n",
       "      <th>cod_country</th>\n",
       "      <th>name</th>\n",
       "    </tr>\n",
       "  </thead>\n",
       "  <tbody>\n",
       "    <tr>\n",
       "      <th>0</th>\n",
       "      <td>2</td>\n",
       "      <td>0</td>\n",
       "      <td>FI</td>\n",
       "      <td>Finland</td>\n",
       "    </tr>\n",
       "    <tr>\n",
       "      <th>1</th>\n",
       "      <td>3</td>\n",
       "      <td>0</td>\n",
       "      <td>FI</td>\n",
       "      <td>Finland</td>\n",
       "    </tr>\n",
       "    <tr>\n",
       "      <th>2</th>\n",
       "      <td>5</td>\n",
       "      <td>1</td>\n",
       "      <td>US</td>\n",
       "      <td>United States of America</td>\n",
       "    </tr>\n",
       "    <tr>\n",
       "      <th>3</th>\n",
       "      <td>6</td>\n",
       "      <td>2</td>\n",
       "      <td>JP</td>\n",
       "      <td>Japan</td>\n",
       "    </tr>\n",
       "    <tr>\n",
       "      <th>4</th>\n",
       "      <td>6</td>\n",
       "      <td>1</td>\n",
       "      <td>US</td>\n",
       "      <td>United States of America</td>\n",
       "    </tr>\n",
       "  </tbody>\n",
       "</table>\n",
       "</div>"
      ],
      "text/plain": [
       "   id  country_id cod_country                      name\n",
       "0   2           0          FI                   Finland\n",
       "1   3           0          FI                   Finland\n",
       "2   5           1          US  United States of America\n",
       "3   6           2          JP                     Japan\n",
       "4   6           1          US  United States of America"
      ]
     },
     "execution_count": 25,
     "metadata": {},
     "output_type": "execute_result"
    }
   ],
   "source": [
    "df_production_countries.head()"
   ]
  },
  {
   "cell_type": "code",
   "execution_count": 26,
   "metadata": {},
   "outputs": [],
   "source": [
    "df_prod_countries = df_production_countries[[\"country_id\", \"cod_country\", \"name\"]].drop_duplicates()"
   ]
  },
  {
   "cell_type": "code",
   "execution_count": 27,
   "metadata": {},
   "outputs": [],
   "source": [
    "df_prod_countries.to_csv(\"data/launch/production_countries.csv\", index=False)"
   ]
  },
  {
   "cell_type": "code",
   "execution_count": 28,
   "metadata": {},
   "outputs": [],
   "source": [
    "df_movie_countries = df_production_countries.drop(columns=[\"name\", \"cod_country\"])"
   ]
  },
  {
   "cell_type": "code",
   "execution_count": 29,
   "metadata": {},
   "outputs": [],
   "source": [
    "df_movie_countries.to_csv(\"data/launch/movie_countries.csv\", index=False)"
   ]
  },
  {
   "cell_type": "code",
   "execution_count": 30,
   "metadata": {},
   "outputs": [],
   "source": [
    "df_production_companies = df_production_companies.astype({'production_companies_id': 'int64'})\n",
    "df_production_companies = df_production_companies[[\"id\", \"production_companies_id\", \"name\"]]"
   ]
  },
  {
   "cell_type": "code",
   "execution_count": 31,
   "metadata": {},
   "outputs": [
    {
     "data": {
      "text/html": [
       "<div>\n",
       "<style scoped>\n",
       "    .dataframe tbody tr th:only-of-type {\n",
       "        vertical-align: middle;\n",
       "    }\n",
       "\n",
       "    .dataframe tbody tr th {\n",
       "        vertical-align: top;\n",
       "    }\n",
       "\n",
       "    .dataframe thead th {\n",
       "        text-align: right;\n",
       "    }\n",
       "</style>\n",
       "<table border=\"1\" class=\"dataframe\">\n",
       "  <thead>\n",
       "    <tr style=\"text-align: right;\">\n",
       "      <th></th>\n",
       "      <th>id</th>\n",
       "      <th>production_companies_id</th>\n",
       "      <th>name</th>\n",
       "    </tr>\n",
       "  </thead>\n",
       "  <tbody>\n",
       "    <tr>\n",
       "      <th>0</th>\n",
       "      <td>2</td>\n",
       "      <td>2303</td>\n",
       "      <td>Villealfa Filmproduction Oy</td>\n",
       "    </tr>\n",
       "    <tr>\n",
       "      <th>1</th>\n",
       "      <td>2</td>\n",
       "      <td>2396</td>\n",
       "      <td>Finnish Film Foundation</td>\n",
       "    </tr>\n",
       "    <tr>\n",
       "      <th>2</th>\n",
       "      <td>3</td>\n",
       "      <td>2303</td>\n",
       "      <td>Villealfa Filmproduction Oy</td>\n",
       "    </tr>\n",
       "    <tr>\n",
       "      <th>3</th>\n",
       "      <td>5</td>\n",
       "      <td>14</td>\n",
       "      <td>Miramax Films</td>\n",
       "    </tr>\n",
       "    <tr>\n",
       "      <th>4</th>\n",
       "      <td>5</td>\n",
       "      <td>59</td>\n",
       "      <td>A Band Apart</td>\n",
       "    </tr>\n",
       "  </tbody>\n",
       "</table>\n",
       "</div>"
      ],
      "text/plain": [
       "   id  production_companies_id                         name\n",
       "0   2                     2303  Villealfa Filmproduction Oy\n",
       "1   2                     2396      Finnish Film Foundation\n",
       "2   3                     2303  Villealfa Filmproduction Oy\n",
       "3   5                       14                Miramax Films\n",
       "4   5                       59                 A Band Apart"
      ]
     },
     "execution_count": 31,
     "metadata": {},
     "output_type": "execute_result"
    }
   ],
   "source": [
    "df_production_companies.head()"
   ]
  },
  {
   "cell_type": "code",
   "execution_count": 32,
   "metadata": {},
   "outputs": [],
   "source": [
    "df_prod_companies = df_production_companies[[\"production_companies_id\", \"name\"]].drop_duplicates()"
   ]
  },
  {
   "cell_type": "code",
   "execution_count": 33,
   "metadata": {},
   "outputs": [
    {
     "data": {
      "text/html": [
       "<div>\n",
       "<style scoped>\n",
       "    .dataframe tbody tr th:only-of-type {\n",
       "        vertical-align: middle;\n",
       "    }\n",
       "\n",
       "    .dataframe tbody tr th {\n",
       "        vertical-align: top;\n",
       "    }\n",
       "\n",
       "    .dataframe thead th {\n",
       "        text-align: right;\n",
       "    }\n",
       "</style>\n",
       "<table border=\"1\" class=\"dataframe\">\n",
       "  <thead>\n",
       "    <tr style=\"text-align: right;\">\n",
       "      <th></th>\n",
       "      <th>production_companies_id</th>\n",
       "      <th>name</th>\n",
       "    </tr>\n",
       "  </thead>\n",
       "  <tbody>\n",
       "    <tr>\n",
       "      <th>0</th>\n",
       "      <td>2303</td>\n",
       "      <td>Villealfa Filmproduction Oy</td>\n",
       "    </tr>\n",
       "    <tr>\n",
       "      <th>1</th>\n",
       "      <td>2396</td>\n",
       "      <td>Finnish Film Foundation</td>\n",
       "    </tr>\n",
       "    <tr>\n",
       "      <th>3</th>\n",
       "      <td>14</td>\n",
       "      <td>Miramax Films</td>\n",
       "    </tr>\n",
       "    <tr>\n",
       "      <th>4</th>\n",
       "      <td>59</td>\n",
       "      <td>A Band Apart</td>\n",
       "    </tr>\n",
       "    <tr>\n",
       "      <th>5</th>\n",
       "      <td>33</td>\n",
       "      <td>Universal Pictures</td>\n",
       "    </tr>\n",
       "    <tr>\n",
       "      <th>...</th>\n",
       "      <td>...</td>\n",
       "      <td>...</td>\n",
       "    </tr>\n",
       "    <tr>\n",
       "      <th>70298</th>\n",
       "      <td>21660</td>\n",
       "      <td>Ankama</td>\n",
       "    </tr>\n",
       "    <tr>\n",
       "      <th>70302</th>\n",
       "      <td>89819</td>\n",
       "      <td>New Element Media</td>\n",
       "    </tr>\n",
       "    <tr>\n",
       "      <th>70303</th>\n",
       "      <td>91393</td>\n",
       "      <td>Oats Studio</td>\n",
       "    </tr>\n",
       "    <tr>\n",
       "      <th>70311</th>\n",
       "      <td>19609</td>\n",
       "      <td>Rita Filmes</td>\n",
       "    </tr>\n",
       "    <tr>\n",
       "      <th>70319</th>\n",
       "      <td>33751</td>\n",
       "      <td>Sentai Filmworks</td>\n",
       "    </tr>\n",
       "  </tbody>\n",
       "</table>\n",
       "<p>23639 rows × 2 columns</p>\n",
       "</div>"
      ],
      "text/plain": [
       "       production_companies_id                         name\n",
       "0                         2303  Villealfa Filmproduction Oy\n",
       "1                         2396      Finnish Film Foundation\n",
       "3                           14                Miramax Films\n",
       "4                           59                 A Band Apart\n",
       "5                           33           Universal Pictures\n",
       "...                        ...                          ...\n",
       "70298                    21660                       Ankama\n",
       "70302                    89819            New Element Media\n",
       "70303                    91393                  Oats Studio\n",
       "70311                    19609                  Rita Filmes\n",
       "70319                    33751             Sentai Filmworks\n",
       "\n",
       "[23639 rows x 2 columns]"
      ]
     },
     "execution_count": 33,
     "metadata": {},
     "output_type": "execute_result"
    }
   ],
   "source": [
    "df_prod_companies"
   ]
  },
  {
   "cell_type": "code",
   "execution_count": 34,
   "metadata": {},
   "outputs": [],
   "source": [
    "df_prod_companies.to_csv(\"data/launch/production_companies.csv\", index=False)"
   ]
  },
  {
   "cell_type": "code",
   "execution_count": 35,
   "metadata": {},
   "outputs": [],
   "source": [
    "df_movie_companies = df_production_companies.drop(columns=[\"name\"])"
   ]
  },
  {
   "cell_type": "code",
   "execution_count": 36,
   "metadata": {},
   "outputs": [],
   "source": [
    "df_movie_companies.to_csv(\"data/launch/movie_companies.csv\", index=False)"
   ]
  },
  {
   "cell_type": "code",
   "execution_count": 38,
   "metadata": {},
   "outputs": [],
   "source": [
    "df_crew[\"job_id\"] = pd.factorize(df_crew[\"job\"])[0]"
   ]
  },
  {
   "cell_type": "code",
   "execution_count": 39,
   "metadata": {},
   "outputs": [],
   "source": [
    "df_crew = df_crew.astype({'crew_gender_id': 'int64', 'crew_id': 'int64'})\n",
    "df_crew = df_crew[[\"credit_id\", \"id\", \"crew_id\", \"department\", \"name\", \"crew_gender_id\", \"job_id\", \"job\"]]"
   ]
  },
  {
   "cell_type": "code",
   "execution_count": 40,
   "metadata": {},
   "outputs": [
    {
     "data": {
      "text/html": [
       "<div>\n",
       "<style scoped>\n",
       "    .dataframe tbody tr th:only-of-type {\n",
       "        vertical-align: middle;\n",
       "    }\n",
       "\n",
       "    .dataframe tbody tr th {\n",
       "        vertical-align: top;\n",
       "    }\n",
       "\n",
       "    .dataframe thead th {\n",
       "        text-align: right;\n",
       "    }\n",
       "</style>\n",
       "<table border=\"1\" class=\"dataframe\">\n",
       "  <thead>\n",
       "    <tr style=\"text-align: right;\">\n",
       "      <th></th>\n",
       "      <th>credit_id</th>\n",
       "      <th>id</th>\n",
       "      <th>crew_id</th>\n",
       "      <th>department</th>\n",
       "      <th>name</th>\n",
       "      <th>crew_gender_id</th>\n",
       "      <th>job_id</th>\n",
       "      <th>job</th>\n",
       "    </tr>\n",
       "  </thead>\n",
       "  <tbody>\n",
       "    <tr>\n",
       "      <th>0</th>\n",
       "      <td>52fe420dc3a36847f800001f</td>\n",
       "      <td>2</td>\n",
       "      <td>16767</td>\n",
       "      <td>Writing</td>\n",
       "      <td>Aki Kaurismäki</td>\n",
       "      <td>0</td>\n",
       "      <td>0</td>\n",
       "      <td>Screenplay</td>\n",
       "    </tr>\n",
       "    <tr>\n",
       "      <th>1</th>\n",
       "      <td>52fe420dc3a36847f8000025</td>\n",
       "      <td>2</td>\n",
       "      <td>16767</td>\n",
       "      <td>Directing</td>\n",
       "      <td>Aki Kaurismäki</td>\n",
       "      <td>0</td>\n",
       "      <td>1</td>\n",
       "      <td>Director</td>\n",
       "    </tr>\n",
       "    <tr>\n",
       "      <th>2</th>\n",
       "      <td>52fe420dc3a36847f800003b</td>\n",
       "      <td>2</td>\n",
       "      <td>16769</td>\n",
       "      <td>Camera</td>\n",
       "      <td>Timo Salminen</td>\n",
       "      <td>2</td>\n",
       "      <td>2</td>\n",
       "      <td>Director of Photography</td>\n",
       "    </tr>\n",
       "    <tr>\n",
       "      <th>3</th>\n",
       "      <td>52fe420dc3a36847f8000041</td>\n",
       "      <td>2</td>\n",
       "      <td>54766</td>\n",
       "      <td>Editing</td>\n",
       "      <td>Raija Talvio</td>\n",
       "      <td>0</td>\n",
       "      <td>3</td>\n",
       "      <td>Editor</td>\n",
       "    </tr>\n",
       "    <tr>\n",
       "      <th>4</th>\n",
       "      <td>52fe420dc3a36847f8000047</td>\n",
       "      <td>2</td>\n",
       "      <td>53836</td>\n",
       "      <td>Art</td>\n",
       "      <td>Risto Karhula</td>\n",
       "      <td>2</td>\n",
       "      <td>4</td>\n",
       "      <td>Production Design</td>\n",
       "    </tr>\n",
       "  </tbody>\n",
       "</table>\n",
       "</div>"
      ],
      "text/plain": [
       "                  credit_id  id  crew_id department            name  \\\n",
       "0  52fe420dc3a36847f800001f   2    16767    Writing  Aki Kaurismäki   \n",
       "1  52fe420dc3a36847f8000025   2    16767  Directing  Aki Kaurismäki   \n",
       "2  52fe420dc3a36847f800003b   2    16769     Camera   Timo Salminen   \n",
       "3  52fe420dc3a36847f8000041   2    54766    Editing    Raija Talvio   \n",
       "4  52fe420dc3a36847f8000047   2    53836        Art   Risto Karhula   \n",
       "\n",
       "   crew_gender_id  job_id                      job  \n",
       "0               0       0               Screenplay  \n",
       "1               0       1                 Director  \n",
       "2               2       2  Director of Photography  \n",
       "3               0       3                   Editor  \n",
       "4               2       4        Production Design  "
      ]
     },
     "execution_count": 40,
     "metadata": {},
     "output_type": "execute_result"
    }
   ],
   "source": [
    "df_crew.head()"
   ]
  },
  {
   "cell_type": "code",
   "execution_count": 41,
   "metadata": {},
   "outputs": [],
   "source": [
    "# Tabla de generos Masculino Femenino None\n",
    "df_crew_persons_gender = pd.DataFrame({\n",
    "    \"crew_gender_id\": [0, 1, 2],\n",
    "    \"gender_name\": [\"None\", \"Female\", \"Male\"]\n",
    "})"
   ]
  },
  {
   "cell_type": "code",
   "execution_count": 42,
   "metadata": {},
   "outputs": [],
   "source": [
    "df_crew_persons_gender.to_csv(\"data/launch/crew_persons_gender.csv\", index=False)"
   ]
  },
  {
   "cell_type": "code",
   "execution_count": 43,
   "metadata": {},
   "outputs": [],
   "source": [
    "df_crew_persons = df_crew[[\"crew_id\", \"name\", \"crew_gender_id\"]].drop_duplicates()"
   ]
  },
  {
   "cell_type": "code",
   "execution_count": 44,
   "metadata": {},
   "outputs": [],
   "source": [
    "df_crew_jobs = df_crew[[\"job_id\", \"job\"]].drop_duplicates()"
   ]
  },
  {
   "cell_type": "code",
   "execution_count": 45,
   "metadata": {},
   "outputs": [],
   "source": [
    "df_crew_jobs.to_csv(\"data/launch/crew_jobs.csv\", index=False)"
   ]
  },
  {
   "cell_type": "code",
   "execution_count": 46,
   "metadata": {},
   "outputs": [],
   "source": [
    "df_crew_principal = df_crew.drop(columns=['name', 'crew_gender_id', 'job'])"
   ]
  },
  {
   "cell_type": "code",
   "execution_count": 47,
   "metadata": {},
   "outputs": [],
   "source": [
    "df_crew_principal.to_csv(\"data/launch/crew.csv\", index=False)"
   ]
  },
  {
   "cell_type": "code",
   "execution_count": 48,
   "metadata": {},
   "outputs": [],
   "source": [
    "df_cast = df_cast.astype({'crew_gender_id': 'int64', 'person_id': 'int64', 'order': 'int64'})\n",
    "df_cast = df_cast[[\"credit_id\", \"id\", \"person_id\", \"character\", \"name\", \"crew_gender_id\", \"order\"]]"
   ]
  },
  {
   "cell_type": "code",
   "execution_count": 49,
   "metadata": {},
   "outputs": [
    {
     "data": {
      "text/html": [
       "<div>\n",
       "<style scoped>\n",
       "    .dataframe tbody tr th:only-of-type {\n",
       "        vertical-align: middle;\n",
       "    }\n",
       "\n",
       "    .dataframe tbody tr th {\n",
       "        vertical-align: top;\n",
       "    }\n",
       "\n",
       "    .dataframe thead th {\n",
       "        text-align: right;\n",
       "    }\n",
       "</style>\n",
       "<table border=\"1\" class=\"dataframe\">\n",
       "  <thead>\n",
       "    <tr style=\"text-align: right;\">\n",
       "      <th></th>\n",
       "      <th>credit_id</th>\n",
       "      <th>id</th>\n",
       "      <th>person_id</th>\n",
       "      <th>character</th>\n",
       "      <th>name</th>\n",
       "      <th>crew_gender_id</th>\n",
       "      <th>order</th>\n",
       "    </tr>\n",
       "  </thead>\n",
       "  <tbody>\n",
       "    <tr>\n",
       "      <th>0</th>\n",
       "      <td>52fe420dc3a36847f8000029</td>\n",
       "      <td>2</td>\n",
       "      <td>54768</td>\n",
       "      <td>Taisto Olavi Kasurinen</td>\n",
       "      <td>Turo Pajala</td>\n",
       "      <td>0</td>\n",
       "      <td>0</td>\n",
       "    </tr>\n",
       "    <tr>\n",
       "      <th>1</th>\n",
       "      <td>52fe420dc3a36847f800002d</td>\n",
       "      <td>2</td>\n",
       "      <td>54769</td>\n",
       "      <td>Irmeli Katariina Pihlaja</td>\n",
       "      <td>Susanna Haavisto</td>\n",
       "      <td>0</td>\n",
       "      <td>1</td>\n",
       "    </tr>\n",
       "    <tr>\n",
       "      <th>2</th>\n",
       "      <td>52fe420dc3a36847f8000031</td>\n",
       "      <td>2</td>\n",
       "      <td>4826</td>\n",
       "      <td>Mikkonen</td>\n",
       "      <td>Matti Pellonpää</td>\n",
       "      <td>2</td>\n",
       "      <td>2</td>\n",
       "    </tr>\n",
       "    <tr>\n",
       "      <th>3</th>\n",
       "      <td>52fe420dc3a36847f8000035</td>\n",
       "      <td>2</td>\n",
       "      <td>54770</td>\n",
       "      <td>Riku</td>\n",
       "      <td>Eetu Hilkamo</td>\n",
       "      <td>0</td>\n",
       "      <td>3</td>\n",
       "    </tr>\n",
       "    <tr>\n",
       "      <th>4</th>\n",
       "      <td>52fe420dc3a36847f8000087</td>\n",
       "      <td>3</td>\n",
       "      <td>4826</td>\n",
       "      <td>Nikander</td>\n",
       "      <td>Matti Pellonpää</td>\n",
       "      <td>2</td>\n",
       "      <td>0</td>\n",
       "    </tr>\n",
       "  </tbody>\n",
       "</table>\n",
       "</div>"
      ],
      "text/plain": [
       "                  credit_id  id  person_id                 character  \\\n",
       "0  52fe420dc3a36847f8000029   2      54768    Taisto Olavi Kasurinen   \n",
       "1  52fe420dc3a36847f800002d   2      54769  Irmeli Katariina Pihlaja   \n",
       "2  52fe420dc3a36847f8000031   2       4826                  Mikkonen   \n",
       "3  52fe420dc3a36847f8000035   2      54770                      Riku   \n",
       "4  52fe420dc3a36847f8000087   3       4826                  Nikander   \n",
       "\n",
       "               name  crew_gender_id  order  \n",
       "0       Turo Pajala               0      0  \n",
       "1  Susanna Haavisto               0      1  \n",
       "2   Matti Pellonpää               2      2  \n",
       "3      Eetu Hilkamo               0      3  \n",
       "4   Matti Pellonpää               2      0  "
      ]
     },
     "execution_count": 49,
     "metadata": {},
     "output_type": "execute_result"
    }
   ],
   "source": [
    "df_cast.head()"
   ]
  },
  {
   "cell_type": "code",
   "execution_count": 50,
   "metadata": {},
   "outputs": [],
   "source": [
    "df_cast_persons = df_cast[[\"person_id\", \"name\", \"crew_gender_id\"]].drop_duplicates()"
   ]
  },
  {
   "cell_type": "code",
   "execution_count": 51,
   "metadata": {},
   "outputs": [],
   "source": [
    "df_cast_persons.rename(columns={\"person_id\": \"crew_id\"}, inplace=True)"
   ]
  },
  {
   "cell_type": "code",
   "execution_count": 52,
   "metadata": {},
   "outputs": [],
   "source": [
    "df_crew_persons = pd.concat([df_crew_persons, df_cast_persons], ignore_index=True)\n",
    "df_crew_persons.to_csv(\"data/launch/crew_persons.csv\", index=False)"
   ]
  },
  {
   "cell_type": "code",
   "execution_count": 53,
   "metadata": {},
   "outputs": [],
   "source": [
    "df_cast_principal = df_cast.drop(columns=['name', 'crew_gender_id'])\n",
    "df_cast_principal.rename(columns={\"person_id\": \"crew_id\"}, inplace=True)"
   ]
  },
  {
   "cell_type": "code",
   "execution_count": 55,
   "metadata": {},
   "outputs": [],
   "source": [
    "df_cast_principal.to_csv(\"data/launch/cast.csv\", index=False)"
   ]
  },
  {
   "cell_type": "code",
   "execution_count": 92,
   "metadata": {},
   "outputs": [],
   "source": [
    "df_movies_final = pd.merge(df_movies, df_belongs_to_collection[['id', 'collection_id']], on='id', how='left')\n",
    "df_movies_final[\"has_collection\"] = df_movies_final[\"collection_id\"].notnull().astype(int)\n",
    "df_movies_final = df_movies_final.drop(columns=['genres', 'spoken_languages', 'belongs_to_collection', 'production_companies', 'production_countries'])"
   ]
  },
  {
   "cell_type": "code",
   "execution_count": 93,
   "metadata": {},
   "outputs": [
    {
     "data": {
      "text/html": [
       "<div>\n",
       "<style scoped>\n",
       "    .dataframe tbody tr th:only-of-type {\n",
       "        vertical-align: middle;\n",
       "    }\n",
       "\n",
       "    .dataframe tbody tr th {\n",
       "        vertical-align: top;\n",
       "    }\n",
       "\n",
       "    .dataframe thead th {\n",
       "        text-align: right;\n",
       "    }\n",
       "</style>\n",
       "<table border=\"1\" class=\"dataframe\">\n",
       "  <thead>\n",
       "    <tr style=\"text-align: right;\">\n",
       "      <th></th>\n",
       "      <th>id</th>\n",
       "      <th>title</th>\n",
       "      <th>original_language</th>\n",
       "      <th>overview</th>\n",
       "      <th>tagline</th>\n",
       "      <th>status</th>\n",
       "      <th>runtime</th>\n",
       "      <th>release_date</th>\n",
       "      <th>release_year</th>\n",
       "      <th>budget</th>\n",
       "      <th>revenue</th>\n",
       "      <th>return</th>\n",
       "      <th>popularity</th>\n",
       "      <th>vote_average</th>\n",
       "      <th>vote_count</th>\n",
       "      <th>collection_id</th>\n",
       "      <th>has_collection</th>\n",
       "    </tr>\n",
       "  </thead>\n",
       "  <tbody>\n",
       "    <tr>\n",
       "      <th>0</th>\n",
       "      <td>2</td>\n",
       "      <td>Ariel</td>\n",
       "      <td>fi</td>\n",
       "      <td>Taisto Kasurinen is a Finnish coal miner whose...</td>\n",
       "      <td>NaN</td>\n",
       "      <td>Released</td>\n",
       "      <td>69</td>\n",
       "      <td>1988-10-21</td>\n",
       "      <td>1988</td>\n",
       "      <td>0.0</td>\n",
       "      <td>0.0</td>\n",
       "      <td>0.00</td>\n",
       "      <td>3.86</td>\n",
       "      <td>7.1</td>\n",
       "      <td>44</td>\n",
       "      <td>NaN</td>\n",
       "      <td>0</td>\n",
       "    </tr>\n",
       "    <tr>\n",
       "      <th>1</th>\n",
       "      <td>3</td>\n",
       "      <td>Shadows in Paradise</td>\n",
       "      <td>fi</td>\n",
       "      <td>An episode in the life of Nikander, a garbage ...</td>\n",
       "      <td>NaN</td>\n",
       "      <td>Released</td>\n",
       "      <td>76</td>\n",
       "      <td>1986-10-16</td>\n",
       "      <td>1986</td>\n",
       "      <td>0.0</td>\n",
       "      <td>0.0</td>\n",
       "      <td>0.00</td>\n",
       "      <td>2.29</td>\n",
       "      <td>7.1</td>\n",
       "      <td>35</td>\n",
       "      <td>NaN</td>\n",
       "      <td>0</td>\n",
       "    </tr>\n",
       "    <tr>\n",
       "      <th>2</th>\n",
       "      <td>5</td>\n",
       "      <td>Four Rooms</td>\n",
       "      <td>en</td>\n",
       "      <td>It's Ted the Bellhop's first night on the job....</td>\n",
       "      <td>Twelve outrageous guests. Four scandalous requ...</td>\n",
       "      <td>Released</td>\n",
       "      <td>98</td>\n",
       "      <td>1995-12-09</td>\n",
       "      <td>1995</td>\n",
       "      <td>4000000.0</td>\n",
       "      <td>4300000.0</td>\n",
       "      <td>1.08</td>\n",
       "      <td>9.03</td>\n",
       "      <td>6.5</td>\n",
       "      <td>539</td>\n",
       "      <td>NaN</td>\n",
       "      <td>0</td>\n",
       "    </tr>\n",
       "    <tr>\n",
       "      <th>3</th>\n",
       "      <td>6</td>\n",
       "      <td>Judgment Night</td>\n",
       "      <td>en</td>\n",
       "      <td>While racing to a boxing match, Frank, Mike, J...</td>\n",
       "      <td>Don't move. Don't whisper. Don't even breathe.</td>\n",
       "      <td>Released</td>\n",
       "      <td>110</td>\n",
       "      <td>1993-10-15</td>\n",
       "      <td>1993</td>\n",
       "      <td>0.0</td>\n",
       "      <td>12136938.0</td>\n",
       "      <td>0.00</td>\n",
       "      <td>5.54</td>\n",
       "      <td>6.4</td>\n",
       "      <td>79</td>\n",
       "      <td>NaN</td>\n",
       "      <td>0</td>\n",
       "    </tr>\n",
       "    <tr>\n",
       "      <th>4</th>\n",
       "      <td>11</td>\n",
       "      <td>Star Wars</td>\n",
       "      <td>en</td>\n",
       "      <td>Princess Leia is captured and held hostage by ...</td>\n",
       "      <td>A long time ago in a galaxy far, far away...</td>\n",
       "      <td>Released</td>\n",
       "      <td>121</td>\n",
       "      <td>1977-05-25</td>\n",
       "      <td>1977</td>\n",
       "      <td>11000000.0</td>\n",
       "      <td>775398007.0</td>\n",
       "      <td>70.49</td>\n",
       "      <td>42.15</td>\n",
       "      <td>8.1</td>\n",
       "      <td>6778</td>\n",
       "      <td>10.0</td>\n",
       "      <td>1</td>\n",
       "    </tr>\n",
       "  </tbody>\n",
       "</table>\n",
       "</div>"
      ],
      "text/plain": [
       "   id                title original_language  \\\n",
       "0   2                Ariel                fi   \n",
       "1   3  Shadows in Paradise                fi   \n",
       "2   5           Four Rooms                en   \n",
       "3   6       Judgment Night                en   \n",
       "4  11            Star Wars                en   \n",
       "\n",
       "                                            overview  \\\n",
       "0  Taisto Kasurinen is a Finnish coal miner whose...   \n",
       "1  An episode in the life of Nikander, a garbage ...   \n",
       "2  It's Ted the Bellhop's first night on the job....   \n",
       "3  While racing to a boxing match, Frank, Mike, J...   \n",
       "4  Princess Leia is captured and held hostage by ...   \n",
       "\n",
       "                                             tagline    status  runtime  \\\n",
       "0                                                NaN  Released       69   \n",
       "1                                                NaN  Released       76   \n",
       "2  Twelve outrageous guests. Four scandalous requ...  Released       98   \n",
       "3     Don't move. Don't whisper. Don't even breathe.  Released      110   \n",
       "4       A long time ago in a galaxy far, far away...  Released      121   \n",
       "\n",
       "  release_date  release_year      budget      revenue  return  popularity  \\\n",
       "0   1988-10-21          1988         0.0          0.0    0.00        3.86   \n",
       "1   1986-10-16          1986         0.0          0.0    0.00        2.29   \n",
       "2   1995-12-09          1995   4000000.0    4300000.0    1.08        9.03   \n",
       "3   1993-10-15          1993         0.0   12136938.0    0.00        5.54   \n",
       "4   1977-05-25          1977  11000000.0  775398007.0   70.49       42.15   \n",
       "\n",
       "   vote_average  vote_count  collection_id  has_collection  \n",
       "0           7.1          44            NaN               0  \n",
       "1           7.1          35            NaN               0  \n",
       "2           6.5         539            NaN               0  \n",
       "3           6.4          79            NaN               0  \n",
       "4           8.1        6778           10.0               1  "
      ]
     },
     "execution_count": 93,
     "metadata": {},
     "output_type": "execute_result"
    }
   ],
   "source": [
    "df_movies_final.head()"
   ]
  },
  {
   "cell_type": "code",
   "execution_count": 94,
   "metadata": {},
   "outputs": [],
   "source": [
    "df_movies_final.to_csv(\"data/launch/movies.csv\", index=False)"
   ]
  },
  {
   "cell_type": "code",
   "execution_count": null,
   "metadata": {},
   "outputs": [],
   "source": [
    "df_movies_pro = pd.merge(df_mov_clean, df_cre_clean[['id', 'direction_name']], on='id', how='left')"
   ]
  },
  {
   "cell_type": "code",
   "execution_count": null,
   "metadata": {},
   "outputs": [],
   "source": [
    "df_movies_collection = pd.merge(df_movies_collection, df_collections[['collection_id', 'name']], on='collection_id', how='left')"
   ]
  },
  {
   "cell_type": "markdown",
   "metadata": {},
   "source": [
    "#### Algoritmo para saber donde se encuentran los errores del formato Json o si es válido"
   ]
  },
  {
   "cell_type": "code",
   "execution_count": null,
   "metadata": {},
   "outputs": [],
   "source": [
    "data = '[{\"cast_id\": 3, \"character\": \"Taisto Olavi Kasurinen\", \"credit_id\": \"52fe420dc3a36847f8000029\", \"gender\": 0, \"id\": 54768, \"name\": \"Turo Pajala\", \"order\": 0, \"profile_path\": None}, {\"cast_id\": 4, \"character\": \"Irmeli Katariina Pihlaja\", \"credit_id\": \"52fe420dc3a36847f800002d\", \"gender\": 0, \"id\": 54769, \"name\": \"Susanna Haavisto\", \"order\": 1, \"profile_path\": None}, {\"cast_id\": 5, \"character\": \"Mikkonen\", \"credit_id\": \"52fe420dc3a36847f8000031\", \"gender\": 2, \"id\": 4826, \"name\": \"Matti Pellonpää\", \"order\": 2, \"profile_path\": \"/7WuLvkuWphUAtW6QQwtF3WrwUKE.jpg\"}, {\"cast_id\": 6, \"character\": \"Riku\", \"credit_id\": \"52fe420dc3a36847f8000035\", \"gender\": 0, \"id\": 54770, \"name\": \"Eetu Hilkamo\", \"order\": 3, \"profile_path\": None}]'"
   ]
  },
  {
   "cell_type": "code",
   "execution_count": null,
   "metadata": {},
   "outputs": [
    {
     "name": "stdout",
     "output_type": "stream",
     "text": [
      "El contenido NO es un JSON válido.\n",
      "Error: Expecting value: line 1 column 174 (char 173)\n"
     ]
    }
   ],
   "source": [
    "try:\n",
    "    json_data = json.loads(data)\n",
    "    print(\"El contenido es un JSON válido:\")\n",
    "    print(json_data)\n",
    "except json.JSONDecodeError as e:\n",
    "    print(\"El contenido NO es un JSON válido.\")\n",
    "    print(\"Error:\", e)"
   ]
  }
 ],
 "metadata": {
  "kernelspec": {
   "display_name": "Python 3",
   "language": "python",
   "name": "python3"
  },
  "language_info": {
   "codemirror_mode": {
    "name": "ipython",
    "version": 3
   },
   "file_extension": ".py",
   "mimetype": "text/x-python",
   "name": "python",
   "nbconvert_exporter": "python",
   "pygments_lexer": "ipython3",
   "version": "3.10.7"
  },
  "orig_nbformat": 4
 },
 "nbformat": 4,
 "nbformat_minor": 2
}
