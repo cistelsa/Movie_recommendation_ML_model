{
 "cells": [
  {
   "cell_type": "code",
   "execution_count": 20,
   "metadata": {},
   "outputs": [],
   "source": [
    "import pandas as pd\n",
    "import numpy as np\n",
    "from sklearn.feature_extraction.text import CountVectorizer, TfidfVectorizer\n",
    "from sklearn.metrics.pairwise import cosine_similarity\n",
    "from sklearn.metrics.pairwise import linear_kernel\n",
    "import nltk"
   ]
  },
  {
   "cell_type": "code",
   "execution_count": 21,
   "metadata": {},
   "outputs": [],
   "source": [
    "# Cargo los datos de las películas\n",
    "df_movies = pd.read_csv(\"../data/launch/movies.csv\")\n",
    "df_genres = pd.read_csv(\"../data/launch/genres.csv\")\n",
    "df_movie_genres = pd.read_csv(\"../data/launch/movie_genres.csv\")"
   ]
  },
  {
   "cell_type": "markdown",
   "metadata": {},
   "source": [
    "### Realizamos Join y Limpieza de datos"
   ]
  },
  {
   "cell_type": "code",
   "execution_count": 22,
   "metadata": {},
   "outputs": [],
   "source": [
    "# Combinar los DataFrames df_movie_genres y df_genres para añadir nombres de géneros a cada película.\n",
    "df_movie_genres_2 = pd.merge(df_movie_genres, df_genres[[\"genre_id\", \"name\"]], on=\"genre_id\", how=\"left\")\n",
    "\n",
    "# Paso 1: Agrupar los géneros por id_movie y combinarlos en listas\n",
    "# Utilizar el método groupby para agrupar los géneros por el ID de la película y luego unir los nombres de los géneros en una lista.\n",
    "grouped_genres = df_movie_genres_2.groupby(\"id\")[\"name\"].agg(\" \".join).reset_index()\n",
    "\n",
    "# Paso 2: Realizar el join entre df_movies y grouped_genres\n",
    "# Combinar el DataFrame df_movies con el DataFrame grouped_genres utilizando el ID de la película como clave de combinación.\n",
    "df_movies = pd.merge(df_movies, grouped_genres, on=\"id\", how=\"left\")\n",
    "\n",
    "# Cambiar el nombre de la columna \"name\" a \"genres_name\"\n",
    "# Renombrar la columna \"name\" del DataFrame df_movies a \"genres_name\" para hacerla más descriptiva.\n",
    "df_movies = df_movies.rename(columns={\"name\": \"genres_name\"})\n",
    "\n",
    "# Cambiar el tipo de columna a string para la columna \"genres_name\"\n",
    "# Cambiar el tipo de datos de la columna \"genres_name\" del DataFrame df_movies a tipo \"string\".\n",
    "df_movies = df_movies.astype({\"genres_name\": \"string\"})\n",
    "\n",
    "# Reemplazar los valores faltantes con \"No Genre\" en la columna \"genres_name\"\n",
    "# Rellenar los valores faltantes en la columna \"genres_name\" del DataFrame df_movies con el texto \"No Genre\".\n",
    "df_movies = df_movies.fillna({\"genres_name\": \"No Genre\"})\n",
    "\n",
    "# Reemplazar todas las instancias de \",\" con \"\" en la columna \"overview\"\n",
    "# Utilizar el método str.replace() para eliminar todas las comas \",\" en la columna \"overview\" del DataFrame df_movies.\n",
    "df_movies[\"overview\"] = df_movies[\"overview\"].str.replace(\",\", \"\", case=False, regex=False)\n"
   ]
  },
  {
   "cell_type": "code",
   "execution_count": 23,
   "metadata": {},
   "outputs": [
    {
     "data": {
      "text/html": [
       "<div>\n",
       "<style scoped>\n",
       "    .dataframe tbody tr th:only-of-type {\n",
       "        vertical-align: middle;\n",
       "    }\n",
       "\n",
       "    .dataframe tbody tr th {\n",
       "        vertical-align: top;\n",
       "    }\n",
       "\n",
       "    .dataframe thead th {\n",
       "        text-align: right;\n",
       "    }\n",
       "</style>\n",
       "<table border=\"1\" class=\"dataframe\">\n",
       "  <thead>\n",
       "    <tr style=\"text-align: right;\">\n",
       "      <th></th>\n",
       "      <th>id</th>\n",
       "      <th>title</th>\n",
       "      <th>original_language</th>\n",
       "      <th>overview</th>\n",
       "      <th>tagline</th>\n",
       "      <th>status</th>\n",
       "      <th>runtime</th>\n",
       "      <th>release_date</th>\n",
       "      <th>release_year</th>\n",
       "      <th>budget</th>\n",
       "      <th>revenue</th>\n",
       "      <th>return</th>\n",
       "      <th>popularity</th>\n",
       "      <th>vote_average</th>\n",
       "      <th>vote_count</th>\n",
       "      <th>collection_id</th>\n",
       "      <th>has_collection</th>\n",
       "      <th>genres_name</th>\n",
       "    </tr>\n",
       "  </thead>\n",
       "  <tbody>\n",
       "    <tr>\n",
       "      <th>0</th>\n",
       "      <td>2</td>\n",
       "      <td>Ariel</td>\n",
       "      <td>fi</td>\n",
       "      <td>Taisto Kasurinen is a Finnish coal miner whose...</td>\n",
       "      <td>NaN</td>\n",
       "      <td>Released</td>\n",
       "      <td>69</td>\n",
       "      <td>1988-10-21</td>\n",
       "      <td>1988</td>\n",
       "      <td>0.0</td>\n",
       "      <td>0.0</td>\n",
       "      <td>0.0</td>\n",
       "      <td>3.86</td>\n",
       "      <td>7.1</td>\n",
       "      <td>44</td>\n",
       "      <td>NaN</td>\n",
       "      <td>0</td>\n",
       "      <td>Drama Crime</td>\n",
       "    </tr>\n",
       "  </tbody>\n",
       "</table>\n",
       "</div>"
      ],
      "text/plain": [
       "   id  title original_language  \\\n",
       "0   2  Ariel                fi   \n",
       "\n",
       "                                            overview tagline    status  \\\n",
       "0  Taisto Kasurinen is a Finnish coal miner whose...     NaN  Released   \n",
       "\n",
       "   runtime release_date  release_year  budget  revenue  return  popularity  \\\n",
       "0       69   1988-10-21          1988     0.0      0.0     0.0        3.86   \n",
       "\n",
       "   vote_average  vote_count  collection_id  has_collection  genres_name  \n",
       "0           7.1          44            NaN               0  Drama Crime  "
      ]
     },
     "execution_count": 23,
     "metadata": {},
     "output_type": "execute_result"
    }
   ],
   "source": [
    "df_movies.head(1)"
   ]
  },
  {
   "cell_type": "code",
   "execution_count": 24,
   "metadata": {},
   "outputs": [],
   "source": [
    "df_movies = df_movies[[\"overview\", \"popularity\",\"title\", \"genres_name\"]]"
   ]
  },
  {
   "cell_type": "code",
   "execution_count": 25,
   "metadata": {},
   "outputs": [
    {
     "data": {
      "text/html": [
       "<div>\n",
       "<style scoped>\n",
       "    .dataframe tbody tr th:only-of-type {\n",
       "        vertical-align: middle;\n",
       "    }\n",
       "\n",
       "    .dataframe tbody tr th {\n",
       "        vertical-align: top;\n",
       "    }\n",
       "\n",
       "    .dataframe thead th {\n",
       "        text-align: right;\n",
       "    }\n",
       "</style>\n",
       "<table border=\"1\" class=\"dataframe\">\n",
       "  <thead>\n",
       "    <tr style=\"text-align: right;\">\n",
       "      <th></th>\n",
       "      <th>overview</th>\n",
       "      <th>popularity</th>\n",
       "      <th>title</th>\n",
       "      <th>genres_name</th>\n",
       "    </tr>\n",
       "  </thead>\n",
       "  <tbody>\n",
       "    <tr>\n",
       "      <th>0</th>\n",
       "      <td>Taisto Kasurinen is a Finnish coal miner whose...</td>\n",
       "      <td>3.86</td>\n",
       "      <td>Ariel</td>\n",
       "      <td>Drama Crime</td>\n",
       "    </tr>\n",
       "  </tbody>\n",
       "</table>\n",
       "</div>"
      ],
      "text/plain": [
       "                                            overview  popularity  title  \\\n",
       "0  Taisto Kasurinen is a Finnish coal miner whose...        3.86  Ariel   \n",
       "\n",
       "   genres_name  \n",
       "0  Drama Crime  "
      ]
     },
     "execution_count": 25,
     "metadata": {},
     "output_type": "execute_result"
    }
   ],
   "source": [
    "df_movies.head(1)"
   ]
  },
  {
   "cell_type": "code",
   "execution_count": 26,
   "metadata": {},
   "outputs": [],
   "source": [
    "df_ML = df_movies.copy()"
   ]
  },
  {
   "cell_type": "code",
   "execution_count": 27,
   "metadata": {},
   "outputs": [
    {
     "data": {
      "text/plain": [
       "(45349, 4)"
      ]
     },
     "execution_count": 27,
     "metadata": {},
     "output_type": "execute_result"
    }
   ],
   "source": [
    "df_ML.shape"
   ]
  },
  {
   "cell_type": "code",
   "execution_count": 28,
   "metadata": {},
   "outputs": [],
   "source": [
    "df_ML = df_ML.dropna().reset_index(drop=True)"
   ]
  },
  {
   "cell_type": "code",
   "execution_count": 29,
   "metadata": {},
   "outputs": [
    {
     "data": {
      "text/plain": [
       "(44408, 4)"
      ]
     },
     "execution_count": 29,
     "metadata": {},
     "output_type": "execute_result"
    }
   ],
   "source": [
    "df_ML.shape"
   ]
  },
  {
   "cell_type": "code",
   "execution_count": 30,
   "metadata": {},
   "outputs": [],
   "source": [
    "df_ML=df_ML.head(100)"
   ]
  },
  {
   "cell_type": "markdown",
   "metadata": {},
   "source": [
    "# Prueba de Modelo de Recomendación ML TF-IDF # 1\n",
    "### Primero se buscan titulos completamente similares, luego similitud de todos los generos, luego similitud de descripción y por último puntaje de popularidad"
   ]
  },
  {
   "cell_type": "code",
   "execution_count": 31,
   "metadata": {},
   "outputs": [],
   "source": [
    "# Preprocesamiento de los títulos\n",
    "df_ML[\"title_clean\"] = df_ML[\"title\"].apply(lambda x: x.lower())\n",
    "\n",
    "# Crear una matriz de términos\n",
    "stopwords_custom = nltk.corpus.stopwords.words(\"english\")  # Agrega aquí stopwords personalizados\n",
    "count_vectorizer = CountVectorizer(stop_words=stopwords_custom)\n",
    "titulo_matrix = count_vectorizer.fit_transform(df_ML[\"title_clean\"])\n",
    "\n",
    "# Calcular la similitud de coseno entre títulos\n",
    "titulo_similarity = cosine_similarity(titulo_matrix)\n",
    "\n",
    "# Índice de la película de referencia\n",
    "indice_pelicula_referencia = 0  # Cambia esto al índice de la película que deseas recomendar\n",
    "\n",
    "# Obtener películas similares por título\n",
    "similar_movies_by_title = list(enumerate(titulo_similarity[indice_pelicula_referencia]))\n",
    "similar_movies_by_title = sorted(similar_movies_by_title, key=lambda x: x[1], reverse=True)\n",
    "# Preprocesamiento de los géneros\n",
    "df_ML[\"genres_clean\"] = df_ML[\"genres_name\"].apply(lambda x: x.lower().split())\n",
    "\n",
    "# Calcular la similitud de Jaccard entre géneros\n",
    "def jaccard_similarity(genre_list1, genre_list2):\n",
    "    intersection = len(set(genre_list1).intersection(genre_list2))\n",
    "    union = len(set(genre_list1).union(genre_list2))\n",
    "    return intersection / union if union != 0 else 0.0\n",
    "\n",
    "# Índice de la película de referencia\n",
    "indice_pelicula_referencia = 0  # Cambia esto al índice de la película que deseas recomendar\n",
    "\n",
    "# Obtener películas similares por género\n",
    "similar_movies_by_genre = []\n",
    "for i, row in df_ML.iterrows():\n",
    "    similarity = jaccard_similarity(df_ML[\"genres_clean\"][indice_pelicula_referencia], row[\"genres_clean\"])\n",
    "    similar_movies_by_genre.append((i, similarity))\n",
    "similar_movies_by_genre = sorted(similar_movies_by_genre, key=lambda x: x[1], reverse=True)\n",
    "# Preprocesamiento de las descripciones\n",
    "df_ML[\"overview_clean\"] = df_ML[\"overview\"].apply(lambda x: x.lower())\n",
    "\n",
    "# Crear matriz TF-IDF para descripciones\n",
    "stopwords_custom = nltk.corpus.stopwords.words(\"english\")\n",
    "tfidf_vectorizer = TfidfVectorizer(stop_words=stopwords_custom)\n",
    "descripcion_matrix = tfidf_vectorizer.fit_transform(df_ML[\"overview_clean\"])\n",
    "\n",
    "# Calcular la similitud de coseno entre descripciones\n",
    "descripcion_similarity = cosine_similarity(descripcion_matrix)\n",
    "\n",
    "# Índice de la película de referencia\n",
    "indice_pelicula_referencia = 0  # Cambia esto al índice de la película que deseas recomendar\n",
    "\n",
    "# Obtener películas similares por descripción\n",
    "similar_movies_by_description = list(enumerate(descripcion_similarity[indice_pelicula_referencia]))\n",
    "similar_movies_by_description = sorted(similar_movies_by_description, key=lambda x: x[1], reverse=True)\n",
    "# Ordenar las películas por puntaje de popularidad (en orden descendente)\n",
    "df_ML_sorted = df_ML.sort_values(by=\"popularity\", ascending=False)\n",
    "\n",
    "# Índice de la película de referencia\n",
    "indice_pelicula_referencia = 0  # Cambia esto al índice de la película que deseas recomendar\n",
    "\n",
    "# Obtener las 5 películas principales por puntaje de popularidad\n",
    "top_popular_movies = df_ML_sorted.iloc[:5]\n",
    "\n"
   ]
  },
  {
   "cell_type": "code",
   "execution_count": 32,
   "metadata": {},
   "outputs": [],
   "source": [
    "# Crear diccionario de indexación por título\n",
    "title_to_index = {title: idx for idx, title in enumerate(df_ML[\"title\"])}"
   ]
  },
  {
   "cell_type": "code",
   "execution_count": 33,
   "metadata": {},
   "outputs": [],
   "source": [
    "def recommend_movies(title, df_ML, title_to_index):\n",
    "    \n",
    "    movie_index = title_to_index.get(title)\n",
    "    if movie_index is None:\n",
    "        return [\"No se encontró la película en la base de datos.\"]\n",
    "    \n",
    "    # Matrices precalculadas\n",
    "    stopwords_custom = nltk.corpus.stopwords.words(\"english\")  # Agrega aquí stopwords personalizados\n",
    "    count_vectorizer = CountVectorizer(stop_words=stopwords_custom)\n",
    "    titulo_matrix = count_vectorizer.fit_transform(df_ML[\"title_clean\"])\n",
    "    titulo_similarity = cosine_similarity(titulo_matrix)\n",
    "    similar_movies_title = list(enumerate(titulo_similarity[movie_index]))\n",
    "\n",
    "    # Coincidencia de Género\n",
    "    def jaccard_similarity(genre_list1, genre_list2):\n",
    "        intersection = len(set(genre_list1).intersection(genre_list2))\n",
    "        union = len(set(genre_list1).union(genre_list2))\n",
    "        return intersection / union if union != 0 else 0.0\n",
    "\n",
    "    similar_movies_genre = []\n",
    "    for i, row in df_ML.iterrows():\n",
    "        similarity = jaccard_similarity(df_ML[\"genres_clean\"][movie_index], row[\"genres_clean\"])\n",
    "        similar_movies_genre.append((i, similarity))\n",
    "\n",
    "    # Coincidencia de Descripción\n",
    "    stopwords_custom = nltk.corpus.stopwords.words(\"english\")  # Agrega aquí stopwords personalizados\n",
    "    tfidf_vectorizer = TfidfVectorizer(stop_words=stopwords_custom)\n",
    "    descripcion_matrix = tfidf_vectorizer.fit_transform(df_ML[\"overview_clean\"])\n",
    "    descripcion_similarity = cosine_similarity(descripcion_matrix)\n",
    "    similar_movies_description = list(enumerate(descripcion_similarity[movie_index]))\n",
    "\n",
    "    # Combinar y ordenar recomendaciones\n",
    "    all_similarities = [(idx, (sim_title + sim_genre + sim_description) / 3.0)\n",
    "                        for (idx, sim_title), (_, sim_genre), (_, sim_description)\n",
    "                        in zip(similar_movies_title, similar_movies_genre, similar_movies_description)]\n",
    "    all_similarities = sorted(all_similarities, key=lambda x: x[1], reverse=True)\n",
    "\n",
    "    # Obtener películas recomendadas\n",
    "    recommended_movies = []\n",
    "    for idx, _ in all_similarities:\n",
    "        if idx != movie_index and len(recommended_movies) < 5:\n",
    "            recommended_movies.append(df_ML.iloc[idx][\"title\"])\n",
    "\n",
    "    return recommended_movies"
   ]
  },
  {
   "cell_type": "code",
   "execution_count": 35,
   "metadata": {},
   "outputs": [
    {
     "name": "stdout",
     "output_type": "stream",
     "text": [
      "['Taxi Driver', 'Paradise Now', 'A History of Violence', 'Dancer in the Dark', 'Leon: The Professional']\n"
     ]
    }
   ],
   "source": [
    "# Buscamos la Película de preferencia\n",
    "recommended_movies = recommend_movies(\"Ariel\", df_ML, title_to_index)\n",
    "print(recommended_movies)"
   ]
  },
  {
   "cell_type": "markdown",
   "metadata": {},
   "source": [
    "# Creación de una función para el pregrabado general de las recomendaciones\n",
    "### Este modelo consume muchos recursos de memoria por esto hemos optado por usar Microsoft Fabric quien nos da un poco más de recursos y obtener 15000 ejemplares de recomendaciones."
   ]
  },
  {
   "cell_type": "code",
   "execution_count": 16,
   "metadata": {},
   "outputs": [],
   "source": [
    "# Crear una lista para almacenar los datos\n",
    "result_data = []\n",
    "\n",
    "# Recorrer cada título en el DataFrame\n",
    "for title in df_ML[\"title\"]:\n",
    "    recommended_movies = recommend_movies(title, df_ML, title_to_index)\n",
    "    recommended_movies_str = \", \".join(recommended_movies)\n",
    "    \n",
    "    result_data.append({\"movie_title\": title, \"recommended_titles\": recommended_movies_str})\n",
    "\n",
    "# Crear un DataFrame a partir de la lista de datos\n",
    "result_df = pd.DataFrame(result_data, columns=[\"movie_title\", \"recommended_titles\"])\n",
    "\n",
    "# Guardar el DataFrame en un archivo CSV\n",
    "result_df.to_csv(\"../data/ML/recomendaciones_peliculas_ML1_100.csv\", index=False)"
   ]
  },
  {
   "cell_type": "code",
   "execution_count": 17,
   "metadata": {},
   "outputs": [],
   "source": [
    "def get_recommendations_for_title(title):\n",
    "    # Cargar el DataFrame precalculado desde el archivo CSV\n",
    "    # Cargamos un DataFrame llamado \"preview_recommendations\" a partir del archivo CSV que contiene las recomendaciones precalculadas.\n",
    "    preview_recommendations = pd.read_csv(\"../data/ML/recomendaciones_peliculas_ML1_100.csv\")\n",
    "\n",
    "    # Filtrar las recomendaciones para el título dado\n",
    "    recommendations = preview_recommendations[preview_recommendations[\"movie_title\"] == title]\n",
    "    \n",
    "    # Verificar si hay recomendaciones para el título dado\n",
    "    if not recommendations.empty:\n",
    "        # Si hay recomendaciones, obtener los títulos recomendados y dividirlos en una lista utilizando la coma como separador\n",
    "        recommended_titles = recommendations.iloc[0][\"recommended_titles\"]\n",
    "        return recommended_titles.split(\", \")\n",
    "    else:\n",
    "        # Si no se encontraron recomendaciones para el título dado, devolver un mensaje de error\n",
    "        return [\"Película no encontrada en la Base de Datos.\"]"
   ]
  },
  {
   "cell_type": "code",
   "execution_count": 36,
   "metadata": {},
   "outputs": [
    {
     "name": "stdout",
     "output_type": "stream",
     "text": [
      "['Taxi Driver', 'Paradise Now', 'A History of Violence', 'Dancer in the Dark', 'Leon: The Professional']\n"
     ]
    }
   ],
   "source": [
    "# Buscamos la Película de preferencia\n",
    "title_to_search = \"Ariel\"\n",
    "recommended_titles = get_recommendations_for_title(title_to_search)\n",
    "print(recommended_titles)"
   ]
  }
 ],
 "metadata": {
  "kernelspec": {
   "display_name": "Python 3",
   "language": "python",
   "name": "python3"
  },
  "language_info": {
   "codemirror_mode": {
    "name": "ipython",
    "version": 3
   },
   "file_extension": ".py",
   "mimetype": "text/x-python",
   "name": "python",
   "nbconvert_exporter": "python",
   "pygments_lexer": "ipython3",
   "version": "3.10.7"
  },
  "orig_nbformat": 4
 },
 "nbformat": 4,
 "nbformat_minor": 2
}
